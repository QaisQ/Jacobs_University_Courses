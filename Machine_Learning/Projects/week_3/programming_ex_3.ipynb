{
 "cells": [
  {
   "cell_type": "markdown",
   "metadata": {},
   "source": [
    "## Assignment 3 Reference Solution"
   ]
  },
  {
   "cell_type": "code",
   "execution_count": 1,
   "metadata": {},
   "outputs": [],
   "source": [
    "import re"
   ]
  },
  {
   "cell_type": "code",
   "execution_count": 4,
   "metadata": {
    "scrolled": false
   },
   "outputs": [
    {
     "name": "stdout",
     "output_type": "stream",
     "text": [
      "['make', 'address', 'all', '3d', 'our', 'over', 'remove', 'internet', 'order', 'mail', 'receive', 'will', 'people', 'report', 'addresses', 'free', 'business', 'email', 'you', 'credit', 'your', 'font', '000', 'money', 'hp', 'hpl', 'george', '650', 'lab', 'labs', 'telnet', '857', 'data', '415', '85', 'technology', '1999', 'parts', 'pm', 'direct', 'cs', 'meeting', 'original', 'project', 're', 'edu', 'table', 'conference']\n"
     ]
    }
   ],
   "source": [
    "#Extract feature words from names file of spambase (UCI repository) \n",
    "word_features = []\n",
    "f = open(\"spambase.names\", \"r\")\n",
    "for i in range(33):\n",
    "    f.readline()\n",
    "for line in f:\n",
    "    pattern = 'word_freq_([a-z0-9]+):'\n",
    "    word_features = word_features + re.findall(pattern, line)\n",
    "f.close()\n",
    "\n",
    "print(word_features)"
   ]
  },
  {
   "cell_type": "code",
   "execution_count": 5,
   "metadata": {},
   "outputs": [],
   "source": [
    "character_features = [';', '(', '[', '!', '$', '#']"
   ]
  },
  {
   "cell_type": "markdown",
   "metadata": {},
   "source": [
    "### Create a function to extract all the desired features"
   ]
  },
  {
   "cell_type": "code",
   "execution_count": 10,
   "metadata": {},
   "outputs": [],
   "source": [
    "def create_features(mail, word_features, character_features):\n",
    "    \n",
    "    feature_dict = {}\n",
    "\n",
    "    #features 1-48: word frequencies\n",
    "    words = re.split('\\W+', mail) \n",
    "    words = list(filter(lambda x: x != '', words))\n",
    "    total_words = len(words)\n",
    "\n",
    "    for word in word_features:\n",
    "        count = len(list(filter(lambda x: x.lower()==word.lower(), words)))\n",
    "        feature = 'word_freq_'+word\n",
    "        feature_dict[feature] = (count/total_words)*100\n",
    "    print(\"List of words: \\n\")\n",
    "    print(words,'\\n')\n",
    "\n",
    "    #feature 49-54: char frequencies\n",
    "    total_chars = len(mail)\n",
    "    for char in character_features:\n",
    "        feature = 'char_freq_'+char\n",
    "\n",
    "        #some special characters need to be escaped for regex\n",
    "        if char=='(':\n",
    "            char = '\\('\n",
    "        elif char=='[':\n",
    "            char = '\\['\n",
    "        elif char=='$':\n",
    "            char = '\\$'\n",
    "\n",
    "        count = len(re.findall(char, mail))\n",
    "        feature_dict[feature] = (count/total_chars)*100\n",
    "        \n",
    "    #feature 55-57: capital letter runs\n",
    "    #make a list of all capital letter runs\n",
    "    pattern = '([A-Z]+)'\n",
    "    caps = re.findall(pattern, mail)\n",
    "    \n",
    "    feature_dict['capital_run_length_total'] = sum([len(x) for x in caps])\n",
    "    feature_dict['capital_run_length_average'] = feature_dict['capital_run_length_total']/len(caps)\n",
    "    feature_dict['capital_run_length_longest'] = max([len(x) for x in caps])\n",
    "    \n",
    "    print(\"List of capital uninterrupted sequences: \\n\")\n",
    "    print(caps, '\\n')\n",
    "    \n",
    "    return feature_dict\n"
   ]
  },
  {
   "cell_type": "markdown",
   "metadata": {},
   "source": [
    "### Run function for all three given files"
   ]
  },
  {
   "cell_type": "code",
   "execution_count": 11,
   "metadata": {},
   "outputs": [
    {
     "name": "stdout",
     "output_type": "stream",
     "text": [
      "List of words: \n",
      "\n",
      "['Subject', 'CO', '541', 'A_s2021', 'ML', 'First', 'homework', 'assignment', 'tutorial', 'From', 'Peter', 'Zaspel', 'via', 'jMoodle', 'noreply', 'jacobs', 'university', 'de', 'Date', '10', '02', '21', '09', '20', 'To', 'Peter', 'Zaspel', 'p', 'zaspel', 'jacobs', 'university', 'de', 'CO', '541', 'A_s2021', 'Forums', 'Announcements', 'ML', 'First', 'homework', 'assignment', 'tutorial', 'https', 'moodle', 'jacobs', 'university', 'de', 'mod', 'forum', 'discuss', 'php', 'd', '1069', 'p1436', 'ML', 'First', 'homework', 'assignment', 'tutorial', 'by', 'Peter', 'Zaspel', 'Wednesday', '10', 'February', '2021', '9', '19', 'AM', 'Dear', 'ML', 'students', 'with', 'a', 'small', 'delay', 'I', 'just', 'published', 'the', 'first', 'homework', 'assignment', 'for', 'this', 'course', 'on', 'Moodle', 'In', 'the', 'future', 'it', 'will', 'be', 'available', 'online', 'on', 'Tuesdays', 'Please', 'have', 'a', 'look', 'at', 'the', 'updated', 'details', 'on', 'the', 'homework', 'assignments', 'on', 'the', 'Moodle', 'page', 'The', 'submission', 'process', 'and', 'deadline', 'is', 'described', 'there', 'too', 'You', 'are', 'invited', 'to', 'post', 'questions', 'on', 'the', 'procedure', 'via', 'the', 'questions', 'forum', 'Moreover', 'please', 'take', 'note', 'of', 'the', 'Tutorial', 'time', 'slot', 'that', 'has', 'been', 'selected', 'Wednesdays', '19', '15', 'Those', 'who', 'cannot', 'join', 'that', 'slot', 'still', 'will', 'have', 'access', 'to', 'the', 'reference', 'solutions', 'and', 'can', 'join', 'the', 'bookable', 'slots', 'with', 'me', 'Best', 'regards', 'Peter', 'Zaspel', 'This', 'is', 'a', 'copy', 'of', 'a', 'message', 'posted', 'in', 'CO', '541', 'A_s2021', 'To', 'reply', 'click', 'on', 'this', 'link', 'https', 'moodle', 'jacobs', 'university', 'de', 'mod', 'forum', 'post', 'php', 'reply', '1436', 'Change', 'your', 'forum', 'digest', 'preferences', 'https', 'moodle', 'jacobs', 'university', 'de', 'mod', 'forum', 'index', 'php', 'id', '3390'] \n",
      "\n",
      "List of capital uninterrupted sequences: \n",
      "\n",
      "['S', 'CO', 'A', 'ML', 'F', 'F', 'P', 'Z', 'M', 'D', 'T', 'P', 'Z', 'CO', 'A', 'F', 'A', 'ML', 'F', 'ML', 'F', 'P', 'Z', 'W', 'F', 'AM', 'D', 'ML', 'I', 'M', 'I', 'T', 'P', 'M', 'T', 'Y', 'M', 'T', 'W', 'T', 'B', 'P', 'Z', 'T', 'CO', 'A', 'T', 'C'] \n",
      "\n"
     ]
    },
    {
     "data": {
      "text/plain": [
       "{'word_freq_make': 0.0,\n",
       " 'word_freq_address': 0.0,\n",
       " 'word_freq_all': 0.0,\n",
       " 'word_freq_3d': 0.0,\n",
       " 'word_freq_our': 0.0,\n",
       " 'word_freq_over': 0.0,\n",
       " 'word_freq_remove': 0.0,\n",
       " 'word_freq_internet': 0.0,\n",
       " 'word_freq_order': 0.0,\n",
       " 'word_freq_mail': 0.0,\n",
       " 'word_freq_receive': 0.0,\n",
       " 'word_freq_will': 0.8968609865470852,\n",
       " 'word_freq_people': 0.0,\n",
       " 'word_freq_report': 0.0,\n",
       " 'word_freq_addresses': 0.0,\n",
       " 'word_freq_free': 0.0,\n",
       " 'word_freq_business': 0.0,\n",
       " 'word_freq_email': 0.0,\n",
       " 'word_freq_you': 0.4484304932735426,\n",
       " 'word_freq_credit': 0.0,\n",
       " 'word_freq_your': 0.4484304932735426,\n",
       " 'word_freq_font': 0.0,\n",
       " 'word_freq_000': 0.0,\n",
       " 'word_freq_money': 0.0,\n",
       " 'word_freq_hp': 0.0,\n",
       " 'word_freq_hpl': 0.0,\n",
       " 'word_freq_george': 0.0,\n",
       " 'word_freq_650': 0.0,\n",
       " 'word_freq_lab': 0.0,\n",
       " 'word_freq_labs': 0.0,\n",
       " 'word_freq_telnet': 0.0,\n",
       " 'word_freq_857': 0.0,\n",
       " 'word_freq_data': 0.0,\n",
       " 'word_freq_415': 0.0,\n",
       " 'word_freq_85': 0.0,\n",
       " 'word_freq_technology': 0.0,\n",
       " 'word_freq_1999': 0.0,\n",
       " 'word_freq_parts': 0.0,\n",
       " 'word_freq_pm': 0.0,\n",
       " 'word_freq_direct': 0.0,\n",
       " 'word_freq_cs': 0.0,\n",
       " 'word_freq_meeting': 0.0,\n",
       " 'word_freq_original': 0.0,\n",
       " 'word_freq_project': 0.0,\n",
       " 'word_freq_re': 0.0,\n",
       " 'word_freq_edu': 0.0,\n",
       " 'word_freq_table': 0.0,\n",
       " 'word_freq_conference': 0.0,\n",
       " 'char_freq_;': 0.0,\n",
       " 'char_freq_(': 0.19801980198019803,\n",
       " 'char_freq_[': 0.19801980198019803,\n",
       " 'char_freq_!': 0.066006600660066,\n",
       " 'char_freq_$': 0.0,\n",
       " 'char_freq_#': 0.066006600660066,\n",
       " 'capital_run_length_total': 56,\n",
       " 'capital_run_length_average': 1.1666666666666667,\n",
       " 'capital_run_length_longest': 2}"
      ]
     },
     "execution_count": 11,
     "metadata": {},
     "output_type": "execute_result"
    }
   ],
   "source": [
    "f = open(\"spam_or_no_spam.txt\", \"r\")\n",
    "mail1 = f.read()\n",
    "f.close()\n",
    "feature_dict = create_features(mail1, word_features, character_features)\n",
    "feature_dict"
   ]
  },
  {
   "cell_type": "code",
   "execution_count": 12,
   "metadata": {},
   "outputs": [
    {
     "name": "stdout",
     "output_type": "stream",
     "text": [
      "List of words: \n",
      "\n",
      "['Subject', 'RE', 'EMAIL', 'ME', 'From', 'Mr', 'Raymond', 'Fung', 'kcubas1', 'mxconstruction', 'net', 'Date', '01', '12', '20', '04', '19', 'To', 'Recipients', 'kcubas1', 'mxconstruction', 'net', 'Hello', 'I', 'am', 'Vice', 'Chairman', 'of', 'Hang', 'Seng', 'Bank', 'I', 'have', 'Important', 'Matter', 'to', 'Discuss', 'with', 'you', 'concerning', 'my', 'late', 'client', 'Died', 'without', 'a', 'NEXT', 'OF', 'KIN', 'Send', 'me', 'your', 'private', 'email', 'for', 'full', 'details', 'information', 'email', 'me', 'at', 'E', 'Mail', 'drraymond0170', 'yahoo', 'co', 'jp', 'Regards', 'Mr', 'Raymond', 'Fung'] \n",
      "\n",
      "List of capital uninterrupted sequences: \n",
      "\n",
      "['S', 'RE', 'EMAIL', 'ME', 'F', 'M', 'R', 'F', 'D', 'T', 'R', 'H', 'I', 'V', 'C', 'H', 'S', 'B', 'I', 'I', 'M', 'D', 'D', 'NEXT', 'OF', 'KIN', 'S', 'E', 'M', 'R', 'M', 'R', 'F'] \n",
      "\n"
     ]
    },
    {
     "data": {
      "text/plain": [
       "{'word_freq_make': 0.0,\n",
       " 'word_freq_address': 0.0,\n",
       " 'word_freq_all': 0.0,\n",
       " 'word_freq_3d': 0.0,\n",
       " 'word_freq_our': 0.0,\n",
       " 'word_freq_over': 0.0,\n",
       " 'word_freq_remove': 0.0,\n",
       " 'word_freq_internet': 0.0,\n",
       " 'word_freq_order': 0.0,\n",
       " 'word_freq_mail': 1.4084507042253522,\n",
       " 'word_freq_receive': 0.0,\n",
       " 'word_freq_will': 0.0,\n",
       " 'word_freq_people': 0.0,\n",
       " 'word_freq_report': 0.0,\n",
       " 'word_freq_addresses': 0.0,\n",
       " 'word_freq_free': 0.0,\n",
       " 'word_freq_business': 0.0,\n",
       " 'word_freq_email': 4.225352112676056,\n",
       " 'word_freq_you': 1.4084507042253522,\n",
       " 'word_freq_credit': 0.0,\n",
       " 'word_freq_your': 1.4084507042253522,\n",
       " 'word_freq_font': 0.0,\n",
       " 'word_freq_000': 0.0,\n",
       " 'word_freq_money': 0.0,\n",
       " 'word_freq_hp': 0.0,\n",
       " 'word_freq_hpl': 0.0,\n",
       " 'word_freq_george': 0.0,\n",
       " 'word_freq_650': 0.0,\n",
       " 'word_freq_lab': 0.0,\n",
       " 'word_freq_labs': 0.0,\n",
       " 'word_freq_telnet': 0.0,\n",
       " 'word_freq_857': 0.0,\n",
       " 'word_freq_data': 0.0,\n",
       " 'word_freq_415': 0.0,\n",
       " 'word_freq_85': 0.0,\n",
       " 'word_freq_technology': 0.0,\n",
       " 'word_freq_1999': 0.0,\n",
       " 'word_freq_parts': 0.0,\n",
       " 'word_freq_pm': 0.0,\n",
       " 'word_freq_direct': 0.0,\n",
       " 'word_freq_cs': 0.0,\n",
       " 'word_freq_meeting': 0.0,\n",
       " 'word_freq_original': 0.0,\n",
       " 'word_freq_project': 0.0,\n",
       " 'word_freq_re': 1.4084507042253522,\n",
       " 'word_freq_edu': 0.0,\n",
       " 'word_freq_table': 0.0,\n",
       " 'word_freq_conference': 0.0,\n",
       " 'char_freq_;': 0.0,\n",
       " 'char_freq_(': 0.0,\n",
       " 'char_freq_[': 0.0,\n",
       " 'char_freq_!': 0.0,\n",
       " 'char_freq_$': 0.0,\n",
       " 'char_freq_#': 0.0,\n",
       " 'capital_run_length_total': 45,\n",
       " 'capital_run_length_average': 1.3636363636363635,\n",
       " 'capital_run_length_longest': 5}"
      ]
     },
     "execution_count": 12,
     "metadata": {},
     "output_type": "execute_result"
    }
   ],
   "source": [
    "f = open(\"spam_or_no_spam_2.txt\", \"r\")\n",
    "mail2 = f.read()\n",
    "f.close()\n",
    "feature_dict = create_features(mail2, word_features, character_features)\n",
    "feature_dict"
   ]
  },
  {
   "cell_type": "code",
   "execution_count": 13,
   "metadata": {},
   "outputs": [
    {
     "name": "stdout",
     "output_type": "stream",
     "text": [
      "List of words: \n",
      "\n",
      "['Subject', 'INVESTMENT', 'PROPOSAL', 'From', 'fernandezl', 'ryanair', 'yahoo', 'com', 'fernandezl', 'ryanair', 'yahoo', 'com', 'Date', '13', '02', '20', '20', '43', 'To', 'Undisclosed', 'recipients', 'Attn', 'Â', 'Â', 'I', 'am', 'Mr', 'Fernandez', 'Luis', 'I', 'represent', 'a', 'group', 'of', 'company', 'based', 'in', 'the', 'Gulf', 'Region', 'We', 'are', 'seeking', 'means', 'of', 'expanding', 'and', 'relocating', 'our', 'business', 'interest', 'abroad', 'We', 'are', 'ready', 'to', 'facilitate', 'and', 'fund', 'any', 'viable', 'business', 'in', 'your', 'country', 'that', 'is', 'capable', 'of', 'generating', 'up', 'to', '10', 'Annual', 'Return', 'on', 'Investment', 'AROI', 'Joint', 'Venture', 'partnership', 'We', 'are', 'willing', 'to', 'invest', 'funds', 'from', 'USD20', 'Million', 'to', 'USD90', 'Million', 'and', 'more', 'into', 'the', 'project', 'If', 'you', 'have', 'any', 'viable', 'business', 'project', 'in', 'your', 'country', 'please', 'write', 'to', 'me', 'for', 'possible', 'business', 'co', 'operation', 'partnership', 'I', 'look', 'forward', 'to', 'discussing', 'this', 'opportunity', 'further', 'with', 'you', 'Â', 'Best', 'Regards', 'Mr', 'Fernandez', 'Luis'] \n",
      "\n",
      "List of capital uninterrupted sequences: \n",
      "\n",
      "['S', 'INVESTMENT', 'PROPOSAL', 'F', 'D', 'T', 'U', 'A', 'I', 'M', 'F', 'L', 'I', 'G', 'R', 'W', 'W', 'A', 'R', 'I', 'AROI', 'J', 'V', 'W', 'USD', 'M', 'USD', 'M', 'I', 'I', 'B', 'R', 'M', 'F', 'L'] \n",
      "\n"
     ]
    },
    {
     "data": {
      "text/plain": [
       "{'word_freq_make': 0.0,\n",
       " 'word_freq_address': 0.0,\n",
       " 'word_freq_all': 0.0,\n",
       " 'word_freq_3d': 0.0,\n",
       " 'word_freq_our': 0.7462686567164178,\n",
       " 'word_freq_over': 0.0,\n",
       " 'word_freq_remove': 0.0,\n",
       " 'word_freq_internet': 0.0,\n",
       " 'word_freq_order': 0.0,\n",
       " 'word_freq_mail': 0.0,\n",
       " 'word_freq_receive': 0.0,\n",
       " 'word_freq_will': 0.0,\n",
       " 'word_freq_people': 0.0,\n",
       " 'word_freq_report': 0.0,\n",
       " 'word_freq_addresses': 0.0,\n",
       " 'word_freq_free': 0.0,\n",
       " 'word_freq_business': 2.9850746268656714,\n",
       " 'word_freq_email': 0.0,\n",
       " 'word_freq_you': 1.4925373134328357,\n",
       " 'word_freq_credit': 0.0,\n",
       " 'word_freq_your': 1.4925373134328357,\n",
       " 'word_freq_font': 0.0,\n",
       " 'word_freq_000': 0.0,\n",
       " 'word_freq_money': 0.0,\n",
       " 'word_freq_hp': 0.0,\n",
       " 'word_freq_hpl': 0.0,\n",
       " 'word_freq_george': 0.0,\n",
       " 'word_freq_650': 0.0,\n",
       " 'word_freq_lab': 0.0,\n",
       " 'word_freq_labs': 0.0,\n",
       " 'word_freq_telnet': 0.0,\n",
       " 'word_freq_857': 0.0,\n",
       " 'word_freq_data': 0.0,\n",
       " 'word_freq_415': 0.0,\n",
       " 'word_freq_85': 0.0,\n",
       " 'word_freq_technology': 0.0,\n",
       " 'word_freq_1999': 0.0,\n",
       " 'word_freq_parts': 0.0,\n",
       " 'word_freq_pm': 0.0,\n",
       " 'word_freq_direct': 0.0,\n",
       " 'word_freq_cs': 0.0,\n",
       " 'word_freq_meeting': 0.0,\n",
       " 'word_freq_original': 0.0,\n",
       " 'word_freq_project': 1.4925373134328357,\n",
       " 'word_freq_re': 0.0,\n",
       " 'word_freq_edu': 0.0,\n",
       " 'word_freq_table': 0.0,\n",
       " 'word_freq_conference': 0.0,\n",
       " 'char_freq_;': 0.12165450121654502,\n",
       " 'char_freq_(': 0.12165450121654502,\n",
       " 'char_freq_[': 0.0,\n",
       " 'char_freq_!': 0.0,\n",
       " 'char_freq_$': 0.0,\n",
       " 'char_freq_#': 0.0,\n",
       " 'capital_run_length_total': 58,\n",
       " 'capital_run_length_average': 1.6571428571428573,\n",
       " 'capital_run_length_longest': 10}"
      ]
     },
     "execution_count": 13,
     "metadata": {},
     "output_type": "execute_result"
    }
   ],
   "source": [
    "f = open(\"spam_or_no_spam_3.txt\", \"r\")\n",
    "mail3 = f.read()\n",
    "f.close()\n",
    "feature_dict = create_features(mail3, word_features, character_features)\n",
    "feature_dict"
   ]
  },
  {
   "cell_type": "code",
   "execution_count": null,
   "metadata": {},
   "outputs": [],
   "source": []
  }
 ],
 "metadata": {
  "kernelspec": {
   "display_name": "Python 3",
   "language": "python",
   "name": "python3"
  },
  "language_info": {
   "codemirror_mode": {
    "name": "ipython",
    "version": 3
   },
   "file_extension": ".py",
   "mimetype": "text/x-python",
   "name": "python",
   "nbconvert_exporter": "python",
   "pygments_lexer": "ipython3",
   "version": "3.7.7"
  }
 },
 "nbformat": 4,
 "nbformat_minor": 4
}
