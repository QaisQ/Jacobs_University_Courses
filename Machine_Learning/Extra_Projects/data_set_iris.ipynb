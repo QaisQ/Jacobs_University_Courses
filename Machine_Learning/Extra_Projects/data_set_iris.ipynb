{
 "cells": [
  {
   "cell_type": "markdown",
   "metadata": {},
   "source": [
    "Load necessary modules"
   ]
  },
  {
   "cell_type": "code",
   "execution_count": 2,
   "metadata": {},
   "outputs": [],
   "source": [
    "import numpy as np"
   ]
  },
  {
   "cell_type": "markdown",
   "metadata": {},
   "source": [
    "Load the iris data set"
   ]
  },
  {
   "cell_type": "code",
   "execution_count": 3,
   "metadata": {},
   "outputs": [
    {
     "name": "stdout",
     "output_type": "stream",
     "text": [
      "--2021-02-23 10:25:00--  https://archive.ics.uci.edu/ml/machine-learning-databases/iris/iris.data\n",
      "Resolving archive.ics.uci.edu (archive.ics.uci.edu)... 128.195.10.252\n",
      "Connecting to archive.ics.uci.edu (archive.ics.uci.edu)|128.195.10.252|:443... connected.\n",
      "HTTP request sent, awaiting response... 200 OK\n",
      "Length: 4551 (4,4K) [application/x-httpd-php]\n",
      "Saving to: ‘iris.data.3’\n",
      "\n",
      "iris.data.3         100%[===================>]   4,44K  --.-KB/s    in 0,001s  \n",
      "\n",
      "2021-02-23 10:25:01 (8,21 MB/s) - ‘iris.data.3’ saved [4551/4551]\n",
      "\n",
      "[5.  3.4 1.5 0.2 1. ]\n"
     ]
    }
   ],
   "source": [
    "!wget https://archive.ics.uci.edu/ml/machine-learning-databases/iris/iris.data\n",
    "    \n",
    "irisTypes=dict()\n",
    "irisTypes[b'Iris-setosa']=1\n",
    "irisTypes[b'Iris-versicolor']=2\n",
    "irisTypes[b'Iris-virginica']=3\n",
    "\n",
    "def conv(inputString):\n",
    "    return irisTypes[inputString]\n",
    "\n",
    "data = np.loadtxt('iris.data', delimiter=',', converters={4: conv})\n",
    "print(data[7,:])"
   ]
  },
  {
   "cell_type": "code",
   "execution_count": 4,
   "metadata": {},
   "outputs": [],
   "source": [
    "X=data[:,:4]\n",
    "Y=data[:,4]"
   ]
  }
 ],
 "metadata": {
  "kernelspec": {
   "display_name": "Python 3",
   "language": "python",
   "name": "python3"
  },
  "language_info": {
   "codemirror_mode": {
    "name": "ipython",
    "version": 3
   },
   "file_extension": ".py",
   "mimetype": "text/x-python",
   "name": "python",
   "nbconvert_exporter": "python",
   "pygments_lexer": "ipython3",
   "version": "3.7.4"
  }
 },
 "nbformat": 4,
 "nbformat_minor": 2
}
