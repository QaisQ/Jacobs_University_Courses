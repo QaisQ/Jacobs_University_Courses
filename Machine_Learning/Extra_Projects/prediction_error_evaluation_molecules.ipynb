{
 "cells": [
  {
   "cell_type": "markdown",
   "metadata": {
    "cell_id": "00000-f78c4176-6d41-4d8e-b623-451927d02d17",
    "deepnote_cell_type": "markdown",
    "tags": []
   },
   "source": [
    "Load NumPy and models"
   ]
  },
  {
   "cell_type": "code",
   "execution_count": 18,
   "metadata": {
    "cell_id": "00000-6f3e5e84-0f88-401a-ae30-4b75b905593a",
    "deepnote_cell_type": "code",
    "deepnote_to_be_reexecuted": false,
    "execution_millis": 1573,
    "execution_start": 1613311005701,
    "source_hash": "b74692eb",
    "tags": []
   },
   "outputs": [],
   "source": [
    "import numpy as np\n",
    "from sklearn.neighbors import KNeighborsRegressor\n",
    "from sklearn import linear_model"
   ]
  },
  {
   "cell_type": "markdown",
   "metadata": {},
   "source": [
    "Get representation library"
   ]
  },
  {
   "cell_type": "code",
   "execution_count": null,
   "metadata": {},
   "outputs": [],
   "source": [
    "!pip install qml"
   ]
  },
  {
   "cell_type": "code",
   "execution_count": 3,
   "metadata": {},
   "outputs": [],
   "source": [
    "import qml"
   ]
  },
  {
   "cell_type": "markdown",
   "metadata": {},
   "source": [
    "Load and inspect data"
   ]
  },
  {
   "cell_type": "code",
   "execution_count": null,
   "metadata": {},
   "outputs": [],
   "source": [
    "!wget https://pubs.acs.org/doi/suppl/10.1021/acs.jctc.8b00832/suppl_file/ct8b00832_si_001.zip\n",
    "!unzip ct8b00832_si_001.zip"
   ]
  },
  {
   "cell_type": "code",
   "execution_count": null,
   "metadata": {},
   "outputs": [],
   "source": [
    "!ls supplementary/geometry"
   ]
  },
  {
   "cell_type": "code",
   "execution_count": null,
   "metadata": {},
   "outputs": [],
   "source": [
    "!cat supplementary/geometry/frag_0001.xyz"
   ]
  },
  {
   "cell_type": "markdown",
   "metadata": {},
   "source": [
    "Generate representations."
   ]
  },
  {
   "cell_type": "code",
   "execution_count": null,
   "metadata": {},
   "outputs": [],
   "source": [
    "print(\"Loading molecule data...\")\n",
    "N=500\n",
    "mols = []\n",
    "for i in range(1,N+1):\n",
    "    filename=\"supplementary/geometry/frag_%04d.xyz\"\n",
    "    mol = qml.Compound(xyz=(filename%(i)))\n",
    "    mols.append(mol)\n",
    "\n",
    "print(\"Generating representations...\")\n",
    "i=0\n",
    "for mol in mols: \n",
    "    mol.generate_coulomb_matrix(size=23)\n",
    "    i=i+1\n",
    "    if i % 100 == 0:\n",
    "        print(i)\n",
    "\n",
    "X = np.array([mol.representation for mol in mols])\n"
   ]
  },
  {
   "cell_type": "code",
   "execution_count": 8,
   "metadata": {},
   "outputs": [
    {
     "data": {
      "text/plain": [
       "(500, 276)"
      ]
     },
     "execution_count": 8,
     "metadata": {},
     "output_type": "execute_result"
    }
   ],
   "source": [
    "X.shape"
   ]
  },
  {
   "cell_type": "markdown",
   "metadata": {},
   "source": [
    "Load outputs."
   ]
  },
  {
   "cell_type": "code",
   "execution_count": null,
   "metadata": {},
   "outputs": [],
   "source": [
    "!cat supplementary/E_ccpvdz.txt"
   ]
  },
  {
   "cell_type": "code",
   "execution_count": 10,
   "metadata": {},
   "outputs": [],
   "source": [
    "Y=np.loadtxt(\"supplementary/E_ccpvdz.txt\")\n",
    "Y = Y[:500,1]"
   ]
  },
  {
   "cell_type": "code",
   "execution_count": 13,
   "metadata": {},
   "outputs": [
    {
     "name": "stdout",
     "output_type": "stream",
     "text": [
      "(100, 276)\n"
     ]
    }
   ],
   "source": [
    "X_train = X[:400,:]\n",
    "Y_train = Y[:400]\n",
    "\n",
    "X_val = X[400:,:]\n",
    "Y_val = Y[400:]"
   ]
  },
  {
   "cell_type": "code",
   "execution_count": 41,
   "metadata": {},
   "outputs": [
    {
     "name": "stdout",
     "output_type": "stream",
     "text": [
      "85.23490591666666\n",
      "272.118891\n"
     ]
    }
   ],
   "source": [
    "k = 3\n",
    "neigh = KNeighborsRegressor(n_neighbors=k)\n",
    "neigh.fit(X_train, Y_train)\n",
    "\n",
    "Y_train_pred = neigh.predict(X_train)\n",
    "\n",
    "training_error = np.sum((Y_train_pred-Y_train)**2)/X_train.shape[0]\n",
    "print(training_error)\n",
    "\n",
    "Y_val_pred = neigh.predict(X_val)\n",
    "generalization_error = np.sum((Y_val_pred-Y_val)**2)/X_val.shape[0]\n",
    "print(generalization_error)"
   ]
  },
  {
   "cell_type": "code",
   "execution_count": 42,
   "metadata": {},
   "outputs": [
    {
     "name": "stdout",
     "output_type": "stream",
     "text": [
      "87.40559576788478\n",
      "45.25276038705653\n"
     ]
    }
   ],
   "source": [
    "lin_regr = linear_model.LinearRegression()\n",
    "lin_regr.fit(X, Y)\n",
    "\n",
    "Y_train_pred = lin_regr.predict(X_train)\n",
    "\n",
    "training_error = np.sum((Y_train_pred-Y_train)**2)/X_train.shape[0]\n",
    "print(training_error)\n",
    "\n",
    "Y_val_pred = lin_regr.predict(X_val)\n",
    "generalization_error = np.sum((Y_val_pred-Y_val)**2)/X_val.shape[0]\n",
    "print(generalization_error)"
   ]
  },
  {
   "cell_type": "code",
   "execution_count": null,
   "metadata": {},
   "outputs": [],
   "source": []
  }
 ],
 "metadata": {
  "deepnote": {},
  "deepnote_execution_queue": [],
  "deepnote_notebook_id": "de759d3f-384e-4796-8c7b-a891385e2084",
  "kernelspec": {
   "display_name": "Python 3",
   "language": "python",
   "name": "python3"
  },
  "language_info": {
   "codemirror_mode": {
    "name": "ipython",
    "version": 3
   },
   "file_extension": ".py",
   "mimetype": "text/x-python",
   "name": "python",
   "nbconvert_exporter": "python",
   "pygments_lexer": "ipython3",
   "version": "3.7.10"
  }
 },
 "nbformat": 4,
 "nbformat_minor": 2
}
